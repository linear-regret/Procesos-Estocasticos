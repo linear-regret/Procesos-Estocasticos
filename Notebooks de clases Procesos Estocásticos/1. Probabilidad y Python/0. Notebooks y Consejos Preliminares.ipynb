{
 "cells": [
  {
   "cell_type": "markdown",
   "metadata": {},
   "source": [
    "# Notebooks\n",
    "\n",
    "A lo largo de este cuaderno hay comentarios en markdown para que puedan ver alguna de la sintaxis para poner hipervínculos, fórmulas, etc\n",
    "\n",
    "- Dividen el código en celdas de ejecución que comparten el mismo entorno (puede ser malo o bueno)\n",
    "- Permiten ejecutar celdas con varios lenguajes\n",
    "  - Explicaciones y derivaciones textuales en Markup, Latex, HTML (con CSS) etc.\n",
    "    - Permite explicar mejor el código\n",
    "    - Insertar imágenes e hypervínculos\n",
    "  - Cambiar de Python a R y así sucesivamente\n",
    "\n",
    "Maneras de correr Notebooks:\n",
    "\n",
    "- [Google Colab](https://www.youtube.com/watch?v=U_g5KRiJ5DA): Código ejecutado en CPUs (o GPUs o TPUs) de google; no importa si tu computadora es vieja.\n",
    "  - Se puede [conectar a Google Drive](https://www.youtube.com/watch?v=v_UZOpwhjGc) para manipular archivos\n",
    "- [Jupyter Notebooks](https://www.youtube.com/watch?v=CwbMaSkKDZg): Código ejecutado de forma manual, más customización y habilidad de controlar el sistema de archivos, etc.\n",
    "- [VsCode](https://www.youtube.com/watch?v=ZYat1is07VI): Software mantenido por Microsoft con miles de extensiones para facilitar el workflow. Es un básicamente un wrapper de Jupyter notebook.\n",
    "  - Intellisense, Snippets, Hot Keys customizables, Extensiones, básicamente es un lienzo que va construyendo la comunidad.\n",
    "  - Puedes [personalizarlo](https://www.youtube.com/watch?v=pGzssFNtWXw) a tu gusto\n",
    "- [DeepNote](https://www.youtube.com/watch?v=ttYc9I2YrFY): Especialmente bueno para proyectos en equipo. Es como un google docs de notebooks y les deja usar otras cosas de la máquina virtual, tanto que pueden correr cosas como Docker y bases de datos ahí adentro. \n",
    "  - Desventaja: A veces es un poco lento y difícil de controlar. \n",
    "  - Ventaja: Equipo de desarrollo muy activo, nuevas características todo el tiempo. Pueden subir archivos de una y no tener que estar conectando con Google Drive o subiendo archivos cada que quieran trabajar\n",
    "- [Spyder](https://www.youtube.com/watch?v=aEPpCYUsQf4): Es un IDE (Entorno de desarrollo integrado) para correr programas de Python. No estoy familiarizado con su implementación de Notebooks\n",
    "\n",
    "\n",
    "Si usan alguna versión local para correr los códigos tendrán que instalar alguna versión de Python (revisen internet para su sistema operativo de preferencia)"
   ]
  },
  {
   "cell_type": "code",
   "execution_count": 2,
   "metadata": {},
   "outputs": [
    {
     "name": "stdout",
     "output_type": "stream",
     "text": [
      "Adiós mundo\n"
     ]
    }
   ],
   "source": [
    "print('Adiós mundo') "
   ]
  },
  {
   "cell_type": "markdown",
   "metadata": {},
   "source": [
    "# Consejos preliminares\n",
    "\n",
    "- Paciencia: Aprender notación puede ser tedioso y desesperante.\n",
    "- El objetivo es el mismo que en matemáticas; desarrolar el pensamiento lógico y creativo.\n",
    "- Es la mejor herramienta disponible: pueden generar, comprobar y construir con ideas.\n",
    "- Usen chat GPT\n",
    "\n",
    "<!--\n",
    "Las imágenes las pueden pegar de la siguiente manera en html (copien y peguen, no se preocupen por el contenido) \n",
    "Se puede copiar un hipervínculo de algún link donde esté la imágen o poner la ruta local como en la imagen del prompt\n",
    "-->\n",
    "<div style='text-align: center;'>\n",
    "<img src='./img/Portada_ChatGPT_01.png' width='100'/>\n",
    "</div>\n",
    "\n",
    "- Les puede ayudar a aprender inglés (da mejores respuestas) a la vez que les ayuda a aprender a programar (cambiando las configuraciones de cómo quiero que me responda)\n",
    "\n",
    "<div style=\"text-align: center;\">\n",
    "  <img src=\"./img/chat gpt prompt.png\"  width=\"500\"/>\n",
    "</div>\n",
    "\n",
    "- Pregunten: primero a chat GPT, luego a mí y luego a Rafa.\n"
   ]
  },
  {
   "cell_type": "markdown",
   "metadata": {},
   "source": [
    "## El Zen the Python"
   ]
  },
  {
   "cell_type": "code",
   "execution_count": null,
   "metadata": {},
   "outputs": [
    {
     "name": "stdout",
     "output_type": "stream",
     "text": [
      "The Zen of Python, by Tim Peters\n",
      "\n",
      "Beautiful is better than ugly.\n",
      "Explicit is better than implicit.\n",
      "Simple is better than complex.\n",
      "Complex is better than complicated.\n",
      "Flat is better than nested.\n",
      "Sparse is better than dense.\n",
      "Readability counts.\n",
      "Special cases aren't special enough to break the rules.\n",
      "Although practicality beats purity.\n",
      "Errors should never pass silently.\n",
      "Unless explicitly silenced.\n",
      "In the face of ambiguity, refuse the temptation to guess.\n",
      "There should be one-- and preferably only one --obvious way to do it.\n",
      "Although that way may not be obvious at first unless you're Dutch.\n",
      "Now is better than never.\n",
      "Although never is often better than *right* now.\n",
      "If the implementation is hard to explain, it's a bad idea.\n",
      "If the implementation is easy to explain, it may be a good idea.\n",
      "Namespaces are one honking great idea -- let's do more of those!\n"
     ]
    }
   ],
   "source": [
    "import this"
   ]
  },
  {
   "cell_type": "markdown",
   "metadata": {},
   "source": [
    "`Premature optimization is the root of all evil` \n",
    "\n",
    "Donald Knuth\n",
    "\n",
    "Es decir no dejen que la idea esté completamente formada en su cabeza para empezar"
   ]
  }
 ],
 "metadata": {
  "kernelspec": {
   "display_name": "Python 3",
   "language": "python",
   "name": "python3"
  },
  "language_info": {
   "codemirror_mode": {
    "name": "ipython",
    "version": 3
   },
   "file_extension": ".py",
   "mimetype": "text/x-python",
   "name": "python",
   "nbconvert_exporter": "python",
   "pygments_lexer": "ipython3",
   "version": "3.10.12"
  },
  "orig_nbformat": 4
 },
 "nbformat": 4,
 "nbformat_minor": 2
}
