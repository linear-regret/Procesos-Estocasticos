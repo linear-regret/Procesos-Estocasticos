{
 "cells": [
  {
   "cell_type": "code",
   "execution_count": 1,
   "metadata": {},
   "outputs": [],
   "source": [
    "from tqdm.notebook import tqdm as tqm\n",
    "import matplotlib.pyplot as plt\n",
    "import plotly.graph_objs as go\n",
    "import plotly.express as px\n",
    "import seaborn as sns\n",
    "import pandas as pd\n",
    "import numpy as np\n",
    "\n",
    "# Opciones de matplotlib\n",
    "rc=plt.rcParams\n",
    "rc['figure.figsize']=[15,5]\n",
    "\n",
    "# Para mostrar todas las columnas cuando se imprime un df\n",
    "pd.set_option('display.max_columns', None)\n",
    "plt.style.use('ggplot')"
   ]
  },
  {
   "cell_type": "markdown",
   "metadata": {},
   "source": [
    "Se tiene que resolver un sistema de ecuaciones de este estilo\n",
    "\n",
    "$$ \\pi \\cdot P =\\pi\\\\\n",
    " P^T \\cdot \\pi=\\pi\\\\\n",
    "$$\n",
    "\n",
    "Sabemos que los vectores $\\pi$ cumplen $$\\sum_i \\pi_i=1$$. Añadiendo esta ecuación a las anteriores y poniendolo en una forma matricial, tenemos\n",
    "$$  A \\cdot x = \\begin{pmatrix}\n",
    "\\vec{0}_n\\\\\n",
    "1 \n",
    "\\end{pmatrix}\n",
    "$$\n",
    "donde $A$ está dada por\n",
    "\n",
    "$$A'=\\begin{pmatrix}\n",
    "P_{11} & P_{21} &\\cdots & P_{n1}-1\\\\\n",
    "P_{12} & P_{22} &\\cdots & P_{n2}-1\\\\\n",
    "\\vdots\\\\\n",
    "P_{1n} & P_{2n} &\\cdots & P_{nn}-1\\\\\n",
    "1 & 1 & \\cdots & 1\\\\\n",
    "\\end{pmatrix}, x=\\pi\n",
    "$$\n",
    "\n",
    "y el sistema de ecuaciones que obtenemos es\n",
    "$$ \n",
    "\\begin{align}\n",
    "\\pi_1 P_{11}+ \\pi_2 P_{21}+ \\pi_{31}\\pi_3+\\cdots+\\pi_{n 1} \\pi_n-\\pi_1 =0 \\\\\n",
    "\\pi_1 P_{12}+ \\pi_2 P_{22}+ \\pi_{32}\\pi_3+\\cdots+\\pi_{n 2} \\pi_n-\\pi_2 =0 \\\\\n",
    "\\vdots\\\\\n",
    "\\pi_1 P_{1n}+ \\pi_2 P_{2n}+ \\pi_{3n}\\pi_3+\\cdots+\\pi_{n n} \\pi_n-\\pi_n =0 \\\\\n",
    "\\pi_1 +\\pi_2+\\pi_3+\\cdots+\\pi_n=1\n",
    "\\end{align}\n",
    "$$\n"
   ]
  },
  {
   "cell_type": "code",
   "execution_count": 14,
   "metadata": {},
   "outputs": [
    {
     "name": "stdout",
     "output_type": "stream",
     "text": [
      "[[0.8 0.4]\n",
      " [1.  1. ]] [0 1] [-1.  2.]\n"
     ]
    }
   ],
   "source": [
    "A=np.array([[0.8,1],[0.4,1]]).T\n",
    "B=np.array([0,1])\n",
    "\n",
    "x = np.linalg.solve(A, B)\n",
    "\n",
    "print(A,B,x)\n"
   ]
  }
 ],
 "metadata": {
  "kernelspec": {
   "display_name": "Python 3",
   "language": "python",
   "name": "python3"
  },
  "language_info": {
   "codemirror_mode": {
    "name": "ipython",
    "version": 3
   },
   "file_extension": ".py",
   "mimetype": "text/x-python",
   "name": "python",
   "nbconvert_exporter": "python",
   "pygments_lexer": "ipython3",
   "version": "3.10.10"
  }
 },
 "nbformat": 4,
 "nbformat_minor": 2
}
