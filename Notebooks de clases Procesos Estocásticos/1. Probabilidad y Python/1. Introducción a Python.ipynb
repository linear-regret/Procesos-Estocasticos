{
 "cells": [
  {
   "cell_type": "markdown",
   "metadata": {},
   "source": [
    "# Ventajas y características de Python\n",
    "\n",
    "- Lenguaje muy sencillo de comprender: Es pseudocódigo indentado\n",
    "- Alto nivel: abstracciones para no pensar en detalle\n",
    "- Dinámicamente tipado: Tipos de variable son determinadas al correr el programa.\n",
    "  - No hay que especificar el tipo de las variables al declararlas (string, int, float, class, function, etc.)\n",
    "- Lenguaje más popular del mundo; existen miles de librerías para hacer todo lo que se requiera\n",
    "\n",
    "<!-- para pegar una imagen usa el código como el de abajo -->\n",
    "\n",
    "<div style='text-align: center;'>\n",
    "<img src=\"./img/popular.png\" alt=\"drawing\" width=\"600\"/>\n",
    "</div>\n",
    "\n",
    "\n",
    "- Tradeoff entre sencillez e ineficiencia computacional\n",
    "- Problema ejecutando programas en paralelo [GIL](https://realpython.com/python-gil/) (aunque esto está [cambiando](https://superfastpython.com/gil-removed-from-python/))\n"
   ]
  },
  {
   "cell_type": "markdown",
   "metadata": {},
   "source": [
    "# Tipos de variables\n",
    "\n",
    "En Python los siguientes tipos de variables son los más usados:\n",
    "\n",
    "\n",
    "- `int`: Los enteros usuales, en Python pueden ser tan grandes como se quiera a diferencia de otros lenguajes\n",
    "- `float`: Números decimales (con punto flotante)\n",
    "- `complex`: Números complejos con las operaciones usuales en $\\mathbb{C}$\n",
    "- `string`: Secuencias de caracteres para guardar texto. Se pueden definir con:\n",
    "    - comillas sencillas `'hola'`\n",
    "    - comillas dobles `\"hola\"`\n",
    "    - triples comillas `'''hola'''` (esta forma permite tener saltos de línea)\n",
    "- `list`: Colección ordenada de elementos que es mutable (modificable) y heterogénea (puede tener diferentes tipos)\n",
    "- `tuple`: Colección ordenada de elementos que es inmutable\n",
    "- `dict`: Colección no ordenada de pares llave valor. Eficiencia en lookup de llaves\n",
    "- `set`: Colección no ordenada de elementos únicos. Tienen operaciones \n",
    "- `bool`: Booleanos representan valores de verdad; es decir `True` o `False`. Son usados para controlar el flujo del programa\n",
    "- `NoneType`: Para representar la ausencia de un valor o un valor nulo, se escribe como `None` \n",
    "\n",
    "Para ejecutar una celda den click en el botón de \"play\" o tecleen `ctrl + enter` para permanecer en la celda o `shift + enter` para ir a la siguiente celda\n"
   ]
  },
  {
   "cell_type": "markdown",
   "metadata": {},
   "source": [
    "## int"
   ]
  },
  {
   "cell_type": "code",
   "execution_count": 23,
   "metadata": {},
   "outputs": [
    {
     "name": "stdout",
     "output_type": "stream",
     "text": [
      "La variable int_ejemplo contiene al número 2  y es de tipo <class 'int'>\n",
      "1000000\n"
     ]
    }
   ],
   "source": [
    "# int: enteros\n",
    "int_ejemplo = 2\n",
    "print('La variable int_ejemplo contiene al número',int_ejemplo,' y es de tipo', type(int_ejemplo))\n",
    "\n",
    "# Se pueden separar por guiones bajo para facilitar nuestra lectura sin cambiar su valor\n",
    "print(1_000_000) # es lo mismo que print(1000000)\n"
   ]
  },
  {
   "cell_type": "markdown",
   "metadata": {},
   "source": [
    "## float"
   ]
  },
  {
   "cell_type": "code",
   "execution_count": 17,
   "metadata": {},
   "outputs": [
    {
     "name": "stdout",
     "output_type": "stream",
     "text": [
      "La variable float_ej contiene al número 2.0  y es de tipo <class 'float'>\n",
      "4.0\n"
     ]
    }
   ],
   "source": [
    "# float: racionales\n",
    "float_ej = 2.0\n",
    "print('La variable float_ej contiene al número',float_ej,' y es de tipo', type(float_ej))\n",
    "\n",
    "# El resultado de multiplicar un entero por un float es un float aunque el float tenga el valor de un entero\n",
    "print(float_ej*int_ejemplo)"
   ]
  },
  {
   "cell_type": "markdown",
   "metadata": {},
   "source": [
    "## complex"
   ]
  },
  {
   "cell_type": "code",
   "execution_count": 18,
   "metadata": {},
   "outputs": [
    {
     "name": "stdout",
     "output_type": "stream",
     "text": [
      "<class 'complex'>\n",
      "4.0\n",
      "(4-5j)\n",
      "(-324+415j)\n"
     ]
    }
   ],
   "source": [
    "# complex: complejos\n",
    "complex_ej=4+5j\n",
    "print(type(complex_ej))\n",
    "\n",
    "# Se pueden hacer operaciones unarias, binarias, etc\n",
    "\n",
    "print(complex_ej.real) # Obtener la parte real\n",
    "print(complex_ej.conjugate()) # Complejo conjugado\n",
    "complex_ej2=19+80j\n",
    "print(complex_ej*complex_ej2) # Multiplicación de elementos"
   ]
  },
  {
   "cell_type": "markdown",
   "metadata": {},
   "source": [
    "## lists"
   ]
  },
  {
   "cell_type": "code",
   "execution_count": 19,
   "metadata": {},
   "outputs": [
    {
     "name": "stdout",
     "output_type": "stream",
     "text": [
      "La variable lista_ej almacena el valor [1, 2, 3, 'a', 2.3] y pertenece a la clase <class 'list'>\n",
      "1 a\n",
      "[1, 2, 3]\n",
      "[1, 3, 2.3]\n",
      "[2.3, 'a', 3, 2, 1]\n",
      "[1, 2, 3]\n",
      "[1, 2, 3, 'a', 2.3, 0, 1, 1]\n",
      "5\n",
      "Agregamos el elemento 180  a la lista\n",
      "[1, 2, 3, 'a', 2.3, 180]\n",
      "Quitamos el último elemento 180  a la lista\n",
      "180\n",
      "[1, 2, 3, 'a', 2.3]\n",
      "1\n"
     ]
    }
   ],
   "source": [
    "# lists: listas; pueden tener más de un tipo, además son mutables\n",
    "lista_ej = [1, 2, 3, \"a\", 2.3]\n",
    "print('La variable lista_ej almacena el valor', lista_ej, 'y pertenece a la clase', type(lista_ej))\n",
    "\n",
    "# Para acceder a un elemento de la lista se le coloca en corchetes su posición o indice\n",
    "# Los índices en python comienzan en cero\n",
    "print(lista_ej[0],lista_ej[3])\n",
    "\n",
    "# Se pueden hacer rebanadas o slices de las listas\n",
    "print(lista_ej[:3]) # Ve del elemento con índice 0 hasta el de índice 2  \n",
    "print(lista_ej[:5:2]) # Ve del elemento 0 al 5, pero en saltos de 2 en 2\n",
    "print(lista_ej[::-1]) # Ve en un paso negativo (volteala)\n",
    "print(lista_ej[:-2]) # Quita dos elementos del final\n",
    "print(lista_ej+[0,1,1]) # Agrega las listas en una sola\n",
    "print(len(lista_ej)) # se puede obtener la longitud de la lista\n",
    "\n",
    "# Podemos agregar elementos al final de la lista con la función append\n",
    "print('Agregamos el elemento', 180, ' a la lista')\n",
    "lista_ej.append(180)\n",
    "print(lista_ej)\n",
    "\n",
    "# Podemos quitar elementos del final de la lista con la función pop\n",
    "print('Quitamos el último elemento', lista_ej[-1], ' a la lista')\n",
    "print(lista_ej.pop()) # Esta función devuelve el valor del último elemento\n",
    "print(lista_ej)\n",
    "\n",
    "# Se puede buscar un valor dentro de la lista\n",
    "print(lista_ej.index(2)) # Esto nos dice que el elemento 2 está en el índice 1\n",
    "# Si no lo encuentra entonces regresará un error"
   ]
  },
  {
   "cell_type": "markdown",
   "metadata": {},
   "source": [
    "## tuples"
   ]
  },
  {
   "cell_type": "code",
   "execution_count": 20,
   "metadata": {},
   "outputs": [
    {
     "name": "stdout",
     "output_type": "stream",
     "text": [
      "La variable tupla_ej almacena el valor (1, 2, 'a') y pertenece a la clase <class 'tuple'>\n"
     ]
    },
    {
     "ename": "TypeError",
     "evalue": "'tuple' object does not support item assignment",
     "output_type": "error",
     "traceback": [
      "\u001b[0;31m---------------------------------------------------------------------------\u001b[0m",
      "\u001b[0;31mTypeError\u001b[0m                                 Traceback (most recent call last)",
      "Cell \u001b[0;32mIn[20], line 6\u001b[0m\n\u001b[1;32m      3\u001b[0m \u001b[39mprint\u001b[39m(\u001b[39m'\u001b[39m\u001b[39mLa variable tupla_ej almacena el valor\u001b[39m\u001b[39m'\u001b[39m, tupla_ej, \u001b[39m'\u001b[39m\u001b[39my pertenece a la clase\u001b[39m\u001b[39m'\u001b[39m, \u001b[39mtype\u001b[39m(tupla_ej))\n\u001b[1;32m      5\u001b[0m \u001b[39m# Si intentamos modificar algún elemento, como es inmutable, regresará un error\u001b[39;00m\n\u001b[0;32m----> 6\u001b[0m tupla_ej[\u001b[39m0\u001b[39;49m]\u001b[39m=\u001b[39m\u001b[39m2\u001b[39m\n",
      "\u001b[0;31mTypeError\u001b[0m: 'tuple' object does not support item assignment"
     ]
    }
   ],
   "source": [
    "# tuples: tuplas; pueden tener más de un tipo, pero son inmutables\n",
    "tupla_ej = (1, 2, \"a\")\n",
    "print('La variable tupla_ej almacena el valor', tupla_ej, 'y pertenece a la clase', type(tupla_ej))\n",
    "\n",
    "# Si intentamos modificar algún elemento, como es inmutable, regresará un error\n",
    "tupla_ej[0]=2"
   ]
  },
  {
   "cell_type": "markdown",
   "metadata": {},
   "source": [
    "## string"
   ]
  },
  {
   "cell_type": "code",
   "execution_count": 24,
   "metadata": {},
   "outputs": [
    {
     "name": "stdout",
     "output_type": "stream",
     "text": [
      "La variable string_ej contiene a la cadena Colorless green ideas sleep furiously  y es de tipo <class 'str'>\n",
      "Colorless green ideas sleep furiously or not\n",
      "Colorle\n",
      "ylsuoiruf peels saedi neerg sselroloC\n",
      "Colorless green ideas sleep furi\n",
      "Colorless green ideas sleep furiously\n",
      "COLORLESS GREEN IDEAS SLEEP FURIOUSLY\n",
      "colorless green ideas sleep furiously\n",
      "True\n",
      "False\n",
      "False\n",
      "True\n"
     ]
    }
   ],
   "source": [
    "# str: strings\n",
    "string_ej = \"Colorless green ideas sleep furiously\"\n",
    "print('La variable string_ej contiene a la cadena',string_ej,' y es de tipo', type(string_ej))\n",
    "\n",
    "# La operación de + concatena dos cadenas, es decir las une\n",
    "print(string_ej + ' or not')\n",
    "\n",
    "\n",
    "# Se pueden hacer slices al igual que a las listas\n",
    "print(string_ej[:7]) # Esto dice desde el índice 0 hasta el 6\n",
    "\n",
    "# Se pueden poner al revés\n",
    "print(string_ej[::-1])\n",
    "\n",
    "# Especificar un número negativo hace que vaya hasta el elemento con posición 5ta del final\n",
    "print(string_ej[:-5])\n",
    "\n",
    "# Existen muchas funciones para hacerle algo a una string\n",
    "print(string_ej.capitalize())\n",
    "print(string_ej.upper())\n",
    "print(string_ej.lower())\n",
    "print(string_ej.startswith('Co'))\n",
    "print(string_ej.startswith('a'))\n",
    "print(string_ej.endswith('a'))\n",
    "print(string_ej.endswith('uriously'))\n",
    "\n",
    "# Si quieren hacer una operación de búsqueda compleja en cadenas vean el tema de las expresiones regulares"
   ]
  },
  {
   "cell_type": "markdown",
   "metadata": {},
   "source": [
    "Para hacer saltos de línea se puede usar un caracter o la notación de tres comillas."
   ]
  },
  {
   "cell_type": "code",
   "execution_count": 25,
   "metadata": {},
   "outputs": [
    {
     "name": "stdout",
     "output_type": "stream",
     "text": [
      "Salto\n",
      "de\n",
      "línea\n",
      "Colorless green ideas\n",
      "sleep furiously\n",
      "Pertenecen a la misma clase:  <class 'str'>\n"
     ]
    }
   ],
   "source": [
    "# El caracter \\n representa un salto de línea\n",
    "print('Salto\\nde\\nlínea')\n",
    "\n",
    "# strings con salto de línea integrado\n",
    "string_ej_nl = '''Colorless green ideas\n",
    "sleep furiously'''\n",
    "print(string_ej_nl)\n",
    "print('Pertenecen a la misma clase: ', type(string_ej_nl))"
   ]
  },
  {
   "cell_type": "code",
   "execution_count": 26,
   "metadata": {},
   "outputs": [
    {
     "name": "stdout",
     "output_type": "stream",
     "text": [
      "La lista [1, 2, 3, 'a', 2.3] tenía 5 de elementos\n"
     ]
    }
   ],
   "source": [
    "# Las fstrings (formatted string) nos permiten escribir variables adentro de una string sin estar concatenando\n",
    "\n",
    "fstr_ej=f'La lista {lista_ej} tenía {len(lista_ej)} de elementos'\n",
    "\n",
    "print(fstr_ej)"
   ]
  },
  {
   "cell_type": "markdown",
   "metadata": {},
   "source": [
    "## set"
   ]
  },
  {
   "cell_type": "code",
   "execution_count": 27,
   "metadata": {},
   "outputs": [
    {
     "name": "stdout",
     "output_type": "stream",
     "text": [
      "La variable set_ej almacena el valor {1, 2, 3} y pertenece a la clase <class 'set'>\n",
      "{1, 2, 3}\n",
      "{1, 2}\n",
      "{1, 2, 3, 4, 5}\n",
      "{3}\n"
     ]
    }
   ],
   "source": [
    "# sets: conjuntos; se le tiene que pasar un iterable (lista)\n",
    "set_ej = set([1, 2, 3, 1])\n",
    "print('La variable set_ej almacena el valor', set_ej, 'y pertenece a la clase', type(set_ej))\n",
    "\n",
    "print(set_ej) # Vemos como el conjuntio no tiene dos 1's como tenía la lista con la que se creó\n",
    "\n",
    "set_ej2=set([3,4,5])\n",
    "print(set_ej -set_ej2) # Se pueden hacer operaciones de conjuntos en este caso la diferencia\n",
    "print(set_ej.union(set_ej2)) #union\n",
    "print(set_ej.intersection(set_ej2)) #intersección"
   ]
  },
  {
   "cell_type": "markdown",
   "metadata": {},
   "source": [
    "## dict"
   ]
  },
  {
   "cell_type": "code",
   "execution_count": 28,
   "metadata": {},
   "outputs": [
    {
     "name": "stdout",
     "output_type": "stream",
     "text": [
      "La variable dict_ej almacena el valor {1: 'a', 'a': 0, 0: 'b'} y pertenece a la clase <class 'dict'>\n",
      "a\n",
      "{1: 3, 'a': 0, 0: 'b'}\n",
      "{1: 3, 'a': 0, 0: 'b', (1, 1): {'a': {8, 9}}}\n"
     ]
    }
   ],
   "source": [
    "# dict: diccionarios. También conocidos como hash maps, objetos\n",
    "dict_ej = {1: \"a\", \"a\": 0,0:'b'}\n",
    "print('La variable dict_ej almacena el valor', dict_ej, 'y pertenece a la clase', type(dict_ej))\n",
    "\n",
    "# Para encontrar el valor correspondiente a la llave se pone dicc[key]\n",
    "print(dict_ej[1])\n",
    "\n",
    "# Se puede reasignar una llave\n",
    "dict_ej[1]=3\n",
    "print(dict_ej)\n",
    "\n",
    "# Puede tener cualquier objeto immutable como llave y cualquier objeto en general como valor, incluso otro diccionario\n",
    "# Para asignar un valor a una nueva llave sólo se escribe el nombre de la llave\n",
    "dict_ej[(1,1)]={'a':set([8,9])}\n",
    "print(dict_ej)"
   ]
  },
  {
   "cell_type": "markdown",
   "metadata": {},
   "source": [
    "## bool"
   ]
  },
  {
   "cell_type": "code",
   "execution_count": 29,
   "metadata": {},
   "outputs": [
    {
     "name": "stdout",
     "output_type": "stream",
     "text": [
      "La variable bool_ej almacena el valor False y pertenece a la clase <class 'bool'>\n",
      "True\n",
      "False\n",
      "True\n",
      "False\n",
      "True\n",
      "Vemos problemas de asociatividad:\n",
      "False\n",
      "True\n"
     ]
    }
   ],
   "source": [
    "# Booleanos\n",
    "bool_ej = False\n",
    "print('La variable bool_ej almacena el valor', bool_ej, 'y pertenece a la clase', type(bool_ej))\n",
    "\n",
    "# Las expresiones de comparación devuelven booleanos\n",
    "print(1==1) # Son iguales\n",
    "print(1>1) # mayor\n",
    "print(1<=1) # menor o igual\n",
    "\n",
    "# Se pueden combinar para hacer proposiciones más complejas con or y and\n",
    "bool_ej2 = True\n",
    "\n",
    "print(bool_ej and bool_ej2)\n",
    "print(bool_ej or bool_ej2) \n",
    "\n",
    "# Se pueden formar más complicadas y las reglas de asociación pueden priorizar cosas que no quieren así que siempre usen paréntesis para agrupar\n",
    "print('Vemos problemas de asociatividad:')\n",
    "print( bool_ej or 1==2 and bool_ej2)\n",
    "print( bool_ej2 or (1==2 and bool_ej2))\n",
    "# La primera expresión dice False or True and True y es interpretada haciendo primero el or, mientras que la segunda lo agrupa distinto "
   ]
  },
  {
   "cell_type": "markdown",
   "metadata": {},
   "source": [
    "Recomendado nombrar a las variables de manera semántica para poder rastrear lo que hacen y poder seleccionar todas si es necesario\n"
   ]
  },
  {
   "cell_type": "markdown",
   "metadata": {},
   "source": [
    "## Condicionales\n"
   ]
  },
  {
   "cell_type": "markdown",
   "metadata": {},
   "source": [
    "Podemos usar las expresiones en condicionales\n"
   ]
  },
  {
   "cell_type": "code",
   "execution_count": 30,
   "metadata": {},
   "outputs": [
    {
     "name": "stdout",
     "output_type": "stream",
     "text": [
      "False\n",
      "False\n",
      "True\n",
      "True\n",
      "mayor\n"
     ]
    }
   ],
   "source": [
    "int_1 = 1\n",
    "int_2 = 2\n",
    "\n",
    "# Todas las siguientes comparaciones regresan booleanos\n",
    "print(int_2 == int_1)  # Doble signo de igual\n",
    "print(int_2 < int_1)\n",
    "print(int_2 > int_1)\n",
    "print(2 in lista_ej)\n",
    "\n",
    "\n",
    "if int_2 == int_1:\n",
    "    print(\"igual\")\n",
    "elif int_2 < int_1: #else if\n",
    "    print(\"menor\")\n",
    "else:\n",
    "    print(\"mayor\")"
   ]
  },
  {
   "cell_type": "markdown",
   "metadata": {},
   "source": [
    "## Bucles (Loops)\n",
    "\n",
    "Ejecutar un mismo código repetidas veces\n"
   ]
  },
  {
   "cell_type": "code",
   "execution_count": 31,
   "metadata": {},
   "outputs": [
    {
     "name": "stdout",
     "output_type": "stream",
     "text": [
      "foo\n",
      "bar\n",
      "bar\n"
     ]
    }
   ],
   "source": [
    "for i in [1, 2, 3]:\n",
    "    if i < 2:\n",
    "        print(\"foo\")\n",
    "    else:\n",
    "        print(\"bar\")"
   ]
  },
  {
   "cell_type": "markdown",
   "metadata": {},
   "source": [
    "## functions\n"
   ]
  },
  {
   "cell_type": "code",
   "execution_count": 1,
   "metadata": {},
   "outputs": [],
   "source": [
    "def tricotomia(int_1, int_2=0):\n",
    "    '''\n",
    "    Esta función toma 2 argumentos y nos regresa si int_1 es igual, menor o mayor a int_2 \n",
    "    int_1: primer entero a ser comparado,\n",
    "    int_2: segundo entero a ser comparado,\n",
    "    Regresa: 0,-1,1\n",
    "    '''\n",
    "    if int_2 == int_1:\n",
    "        print(\"igual\")\n",
    "        return 0\n",
    "    elif int_2 < int_1:\n",
    "        print(\"menor\")\n",
    "        return -1\n",
    "    else:\n",
    "        print(\"mayor\")\n",
    "        return 1"
   ]
  },
  {
   "cell_type": "code",
   "execution_count": 32,
   "metadata": {},
   "outputs": [
    {
     "name": "stdout",
     "output_type": "stream",
     "text": [
      "La variable tricotomia almacena el valor <function tricotomia at 0x7f5394149fc0> y pertenece a la clase <class 'function'>\n",
      "mayor\n",
      "El resultado de llamar la función es 1\n",
      "menor\n",
      "El resultado de llamar la función con valor por defecto es -1\n"
     ]
    }
   ],
   "source": [
    "def tricotomia(int_1, int_2=0):\n",
    "    '''\n",
    "    Esta función toma 2 argumentos y nos regresa si int_1 es igual, menor o mayor a int_2 \n",
    "    int_1: primer entero a ser comparado,\n",
    "    int_2: segundo entero a ser comparado,\n",
    "    Regresa: 0,-1,1\n",
    "    '''\n",
    "    if int_2 == int_1:\n",
    "        print(\"igual\")\n",
    "        return 0\n",
    "    elif int_2 < int_1:\n",
    "        print(\"menor\")\n",
    "        return -1\n",
    "    else:\n",
    "        print(\"mayor\")\n",
    "        return 1\n",
    "\n",
    "print('La variable tricotomia almacena el valor', tricotomia, 'y pertenece a la clase', type(tricotomia))\n",
    "\n",
    "resultado_funcion = tricotomia(int_1, int_2)\n",
    "\n",
    "print(f\"El resultado de llamar la función es {resultado_funcion}\")\n",
    "\n",
    "# Reasignamos la variable resultado_función a un nuevo valor\n",
    "resultado_funcion = tricotomia(int_1)\n",
    "print(f\"El resultado de llamar la función con valor por defecto es {resultado_funcion}\")"
   ]
  },
  {
   "cell_type": "markdown",
   "metadata": {},
   "source": [
    "Vamos viendo parte por parte las líneas de código\n",
    "\n",
    "```py\n",
    "def tricotomia(int_1, int_2=0):\n",
    "```\n",
    "\n",
    "- def es la palabra que inicia la declaración de la función\n",
    "- tricomi es el nombre de la función\n",
    "- entre paréntesis se encuentran los argumentos de la función\n",
    "    - int_1 es el primer argumento\n",
    "    - int_2 es el segundo y como está igualado a 0, al ser llamada la función si el usuario no lo especifica tomará este **valor por defecto**\n",
    "\n",
    "```py\n",
    "  '''\n",
    "    Esta función toma 2 argumentos y nos regresa si es igual, menor o mayor\n",
    "    int_1: primer entero a ser comparado,\n",
    "    int_2: segundo entero a ser comparado,\n",
    "    Regresa: 0,-1,1\n",
    "    '''\n",
    "```\n",
    "Se le conoce como doctring, es de mucha utilidad porque es muy dificil recordar la convención de ciertas funciones que no son simétricas. cuáles son los valores que toman por defecto, etc. Cuando pedimos información sobre una función o cuando ponemos el mouse encima recibimos esta información.\n",
    "\n",
    "```py\n",
    "if int_2 == int_1:\n",
    "        print(\"igual\")\n",
    "        return 0\n",
    "    elif int_2 < int_1:\n",
    "        print(\"menor\")\n",
    "        return -1\n",
    "    else:\n",
    "        print(\"mayor\")\n",
    "        return 1\n",
    "```\n",
    "Esto es el cuerpo de la función. La palabra return nos dice que este será el valor regresado por la función. Este valor lo podemos almacenar en una variable o hacer cualquier cosa que necesitemos. Si no se especifica se regresa None"
   ]
  },
  {
   "cell_type": "code",
   "execution_count": null,
   "metadata": {},
   "outputs": [],
   "source": []
  }
 ],
 "metadata": {
  "kernelspec": {
   "display_name": "Python 3",
   "language": "python",
   "name": "python3"
  },
  "language_info": {
   "codemirror_mode": {
    "name": "ipython",
    "version": 3
   },
   "file_extension": ".py",
   "mimetype": "text/x-python",
   "name": "python",
   "nbconvert_exporter": "python",
   "pygments_lexer": "ipython3",
   "version": "3.10.12"
  },
  "orig_nbformat": 4
 },
 "nbformat": 4,
 "nbformat_minor": 2
}
